{
 "cells": [
  {
   "cell_type": "markdown",
   "id": "5d791ac1-970f-40ef-b5fd-fbf54b5de6fc",
   "metadata": {},
   "source": [
    "# Weaviate - Manage data\n",
    "\n",
    "This file contains the code to manage Weaviate data\n",
    "\n",
    "**Source: []()**"
   ]
  },
  {
   "cell_type": "code",
   "execution_count": 1,
   "id": "4782aa0f-e523-42ed-bec7-19c8a5435655",
   "metadata": {},
   "outputs": [],
   "source": [
    "import os"
   ]
  },
  {
   "cell_type": "code",
   "execution_count": 53,
   "id": "db2720ac-4266-4953-ba6f-558c01d294ca",
   "metadata": {},
   "outputs": [],
   "source": [
    "import asyncio"
   ]
  },
  {
   "cell_type": "code",
   "execution_count": 2,
   "id": "180b95f2-8f5a-4c17-9f14-80ab1d3b798f",
   "metadata": {},
   "outputs": [
    {
     "data": {
      "text/plain": [
       "'E:\\\\Accessories\\\\WebDevelopment\\\\Portfolio\\\\portfolio_admin_experience_django\\\\llm\\\\Weaviate'"
      ]
     },
     "execution_count": 2,
     "metadata": {},
     "output_type": "execute_result"
    }
   ],
   "source": [
    "os.getcwd()"
   ]
  },
  {
   "cell_type": "code",
   "execution_count": 41,
   "id": "1b0a668d-50d0-4bf6-b9c1-41d9d7e3f476",
   "metadata": {},
   "outputs": [],
   "source": [
    "import weaviate\n",
    "import typing\n",
    "from weaviate.connect import ConnectionParams\n",
    "from weaviate.classes.init import AdditionalConfig, Timeout, Auth\n",
    "from weaviate.classes.config import DataType, Configure, Property\n"
   ]
  },
  {
   "cell_type": "markdown",
   "id": "23380484-0c47-4ac9-9624-71407a726a6a",
   "metadata": {},
   "source": [
    "# Connect to the client"
   ]
  },
  {
   "cell_type": "code",
   "execution_count": 6,
   "id": "2e5cb48d-9a4d-4fd9-9f6c-2c843cb1d830",
   "metadata": {},
   "outputs": [],
   "source": [
    "weaviate_host = \"localhost\"\n",
    "weaviate_port = 50050\n",
    "weaviate_grpc_port = 50051\n",
    "weaviate_scheme = \"http\"\n",
    "weaviate_user = \"admin@vip3rtech6069.com\"\n",
    "weaviate_key = \"admin123\"\n",
    "\n",
    "weaviate_connection_params = ConnectionParams.from_params(\n",
    "    http_host=weaviate_host,\n",
    "    http_port=weaviate_port,\n",
    "    http_secure=weaviate_scheme == \"https\",\n",
    "    grpc_host=weaviate_host,\n",
    "    grpc_port=weaviate_grpc_port,\n",
    "    grpc_secure=weaviate_scheme == \"https\"\n",
    ")\n",
    "weaviate_auth_secret = Auth.api_key(weaviate_key)\n",
    "weaviate_additional_config = AdditionalConfig(\n",
    "    timeout=Timeout(init=30, query=60, insert=120),  # Values in seconds\n",
    ")"
   ]
  },
  {
   "cell_type": "code",
   "execution_count": 9,
   "id": "85ee10c0-6742-4d77-a1e2-162a2c2f28b6",
   "metadata": {},
   "outputs": [
    {
     "name": "stderr",
     "output_type": "stream",
     "text": [
      "Exception in callback PollerCompletionQueue._handle_events(<_WindowsSele...e debug=False>)()\n",
      "handle: <Handle PollerCompletionQueue._handle_events(<_WindowsSele...e debug=False>)()>\n",
      "Traceback (most recent call last):\n",
      "  File \"E:\\Accessories\\WebDevelopment\\Portfolio\\portfolio_admin_experience_django\\llm\\venv\\Lib\\asyncio\\events.py\", line 88, in _run\n",
      "    self._context.run(self._callback, *self._args)\n",
      "  File \"src\\\\python\\\\grpcio\\\\grpc\\\\_cython\\\\_cygrpc/aio/completion_queue.pyx.pxi\", line 147, in grpc._cython.cygrpc.PollerCompletionQueue._handle_events\n",
      "BlockingIOError: [WinError 10035] A non-blocking socket operation could not be completed immediately\n",
      "Exception in callback PollerCompletionQueue._handle_events(<_WindowsSele...e debug=False>)()\n",
      "handle: <Handle PollerCompletionQueue._handle_events(<_WindowsSele...e debug=False>)()>\n",
      "Traceback (most recent call last):\n",
      "  File \"E:\\Accessories\\WebDevelopment\\Portfolio\\portfolio_admin_experience_django\\llm\\venv\\Lib\\asyncio\\events.py\", line 88, in _run\n",
      "    self._context.run(self._callback, *self._args)\n",
      "  File \"src\\\\python\\\\grpcio\\\\grpc\\\\_cython\\\\_cygrpc/aio/completion_queue.pyx.pxi\", line 147, in grpc._cython.cygrpc.PollerCompletionQueue._handle_events\n",
      "BlockingIOError: [WinError 10035] A non-blocking socket operation could not be completed immediately\n",
      "Exception in callback PollerCompletionQueue._handle_events(<_WindowsSele...e debug=False>)()\n",
      "handle: <Handle PollerCompletionQueue._handle_events(<_WindowsSele...e debug=False>)()>\n",
      "Traceback (most recent call last):\n",
      "  File \"E:\\Accessories\\WebDevelopment\\Portfolio\\portfolio_admin_experience_django\\llm\\venv\\Lib\\asyncio\\events.py\", line 88, in _run\n",
      "    self._context.run(self._callback, *self._args)\n",
      "  File \"src\\\\python\\\\grpcio\\\\grpc\\\\_cython\\\\_cygrpc/aio/completion_queue.pyx.pxi\", line 147, in grpc._cython.cygrpc.PollerCompletionQueue._handle_events\n",
      "BlockingIOError: [WinError 10035] A non-blocking socket operation could not be completed immediately\n",
      "Exception in callback PollerCompletionQueue._handle_events(<_WindowsSele...e debug=False>)()\n",
      "handle: <Handle PollerCompletionQueue._handle_events(<_WindowsSele...e debug=False>)()>\n",
      "Traceback (most recent call last):\n",
      "  File \"E:\\Accessories\\WebDevelopment\\Portfolio\\portfolio_admin_experience_django\\llm\\venv\\Lib\\asyncio\\events.py\", line 88, in _run\n",
      "    self._context.run(self._callback, *self._args)\n",
      "  File \"src\\\\python\\\\grpcio\\\\grpc\\\\_cython\\\\_cygrpc/aio/completion_queue.pyx.pxi\", line 147, in grpc._cython.cygrpc.PollerCompletionQueue._handle_events\n",
      "BlockingIOError: [WinError 10035] A non-blocking socket operation could not be completed immediately\n",
      "Exception in callback PollerCompletionQueue._handle_events(<_WindowsSele...e debug=False>)()\n",
      "handle: <Handle PollerCompletionQueue._handle_events(<_WindowsSele...e debug=False>)()>\n",
      "Traceback (most recent call last):\n",
      "  File \"E:\\Accessories\\WebDevelopment\\Portfolio\\portfolio_admin_experience_django\\llm\\venv\\Lib\\asyncio\\events.py\", line 88, in _run\n",
      "    self._context.run(self._callback, *self._args)\n",
      "  File \"src\\\\python\\\\grpcio\\\\grpc\\\\_cython\\\\_cygrpc/aio/completion_queue.pyx.pxi\", line 147, in grpc._cython.cygrpc.PollerCompletionQueue._handle_events\n",
      "BlockingIOError: [WinError 10035] A non-blocking socket operation could not be completed immediately\n"
     ]
    }
   ],
   "source": [
    "client = weaviate.WeaviateClient(\n",
    "    connection_params=weaviate_connection_params,\n",
    "    auth_client_secret=weaviate_auth_secret,\n",
    "    additional_config=weaviate_additional_config,\n",
    "    skip_init_checks=True\n",
    ")\n",
    "client.connect()"
   ]
  },
  {
   "cell_type": "code",
   "execution_count": 10,
   "id": "31d82a33-7828-4249-8d6f-c5e2c72afe19",
   "metadata": {},
   "outputs": [
    {
     "data": {
      "text/plain": [
       "True"
      ]
     },
     "execution_count": 10,
     "metadata": {},
     "output_type": "execute_result"
    }
   ],
   "source": [
    "client.is_ready()"
   ]
  },
  {
   "cell_type": "code",
   "execution_count": 56,
   "id": "991d8680-d358-41d1-8818-4923059706d7",
   "metadata": {},
   "outputs": [
    {
     "name": "stderr",
     "output_type": "stream",
     "text": [
      "Exception in callback PollerCompletionQueue._handle_events(<_WindowsSele...e debug=False>)()\n",
      "handle: <Handle PollerCompletionQueue._handle_events(<_WindowsSele...e debug=False>)()>\n",
      "Traceback (most recent call last):\n",
      "  File \"E:\\Accessories\\WebDevelopment\\Portfolio\\portfolio_admin_experience_django\\llm\\venv\\Lib\\asyncio\\events.py\", line 88, in _run\n",
      "    self._context.run(self._callback, *self._args)\n",
      "  File \"src\\\\python\\\\grpcio\\\\grpc\\\\_cython\\\\_cygrpc/aio/completion_queue.pyx.pxi\", line 147, in grpc._cython.cygrpc.PollerCompletionQueue._handle_events\n",
      "BlockingIOError: [WinError 10035] A non-blocking socket operation could not be completed immediately\n"
     ]
    }
   ],
   "source": [
    "async_client = weaviate.WeaviateAsyncClient(\n",
    "    connection_params=weaviate_connection_params,\n",
    "    auth_client_secret=weaviate_auth_secret,\n",
    "    additional_config=weaviate_additional_config,\n",
    "    skip_init_checks=True\n",
    ")\n",
    "\n",
    "await async_client.connect()"
   ]
  },
  {
   "cell_type": "code",
   "execution_count": 58,
   "id": "780b23a0-8ab2-4910-9a5b-05baedd4c48d",
   "metadata": {},
   "outputs": [
    {
     "data": {
      "text/plain": [
       "True"
      ]
     },
     "execution_count": 58,
     "metadata": {},
     "output_type": "execute_result"
    }
   ],
   "source": [
    "await async_client.is_ready()"
   ]
  },
  {
   "cell_type": "markdown",
   "id": "c39eca89-64ed-45fb-a2df-d92bf6c700cb",
   "metadata": {},
   "source": [
    "# Manage collections\n",
    "\n"
   ]
  },
  {
   "cell_type": "code",
   "execution_count": 16,
   "id": "358d2a59-ce52-43f2-b741-57e164675c8d",
   "metadata": {},
   "outputs": [
    {
     "name": "stdout",
     "output_type": "stream",
     "text": [
      "Name, text, True, True, Property description\n"
     ]
    }
   ],
   "source": [
    "class DatasetProperty:\n",
    "\n",
    "    TEXT_TYPE = \"text\"\n",
    "    NUMBER_TYPE = \"number\"\n",
    "    INTEGER_TYPE = \"integer\"\n",
    "    DATE_TYPE = \"date\"\n",
    "    BOOLEAN_TYPE = \"boolean\"\n",
    "    GEO_COORDINATES_TYPE = \"geoCoordinates\"\n",
    "    PHONE_NUMBER_TYPE = \"phoneNumber\"\n",
    "    UUID_TYPE = \"uuid\"\n",
    "    BLOB_TYPE = \"blob\"\n",
    "    OBJECT_TYPE = \"object\"\n",
    "\n",
    "    def __init__(self, name, dtype, description, is_vector, is_indexed):\n",
    "        self.name = name\n",
    "        self.type = dtype\n",
    "        self.description = description\n",
    "        self.is_vector = is_vector\n",
    "        self.is_indexed = is_indexed\n",
    "\n",
    "    def __repr__(self):\n",
    "        return f\"{self.name}, {self.type}, {self.is_indexed}, {self.is_vector}, {self.description}\"\n",
    "\n",
    "    @staticmethod\n",
    "    def to_dict(dataset_field):\n",
    "        return {\n",
    "            \"name\": dataset_field.name,\n",
    "            \"type\": dataset_field.type,\n",
    "            \"description\": dataset_field.description,\n",
    "            \"is_vector\": dataset_field.is_vector,\n",
    "            \"is_indexed\": dataset_field.is_indexed\n",
    "        }\n",
    "    \n",
    "    @staticmethod\n",
    "    def from_dict(data:dict):\n",
    "        if not data or type(data) is not dict:\n",
    "            return None\n",
    "\n",
    "        return DatasetProperty(\n",
    "            name=data.get(\"name\", \"\"),\n",
    "            type=data.get(\"type\", \"\"),\n",
    "            description=data.get(\"description\", \"\"),\n",
    "            is_vector=data.get(\"is_vector\", False),\n",
    "            is_indexed=data.get(\"is_indexed\", False)\n",
    "        )\n",
    "    \n",
    "    @staticmethod\n",
    "    def to_weaviate_property(propertyName:str)->typing.Type[DataType]:\n",
    "        if propertyName == DatasetProperty.TEXT_TYPE:\n",
    "            return DataType.TEXT\n",
    "        elif propertyName == DatasetProperty.NUMBER_TYPE:\n",
    "            return DataType.NUMBER\n",
    "        elif propertyName == DatasetProperty.INTEGER_TYPE:\n",
    "            return DataType.INT\n",
    "        elif propertyName == DatasetProperty.DATE_TYPE:\n",
    "            return DataType.DATE\n",
    "        elif propertyName == DatasetProperty.BOOLEAN_TYPE:\n",
    "            return DataType.BOOL\n",
    "        elif propertyName == DatasetProperty.GEO_COORDINATES_TYPE:\n",
    "            return DataType.GEO_COORDINATES\n",
    "        elif propertyName == DatasetProperty.PHONE_NUMBER_TYPE:\n",
    "            return DataType.PHONE_NUMBER\n",
    "        elif propertyName == DatasetProperty.UUID_TYPE:\n",
    "            return DataType.UUID\n",
    "        elif propertyName == DatasetProperty.BLOB_TYPE:\n",
    "            return DataType.BLOB\n",
    "        elif propertyName == DatasetProperty.OBJECT_TYPE:\n",
    "            return DataType.OBJECT\n",
    "        else:\n",
    "            return DataType.TEXT\n",
    "        \n",
    "    @staticmethod\n",
    "    def from_weaviate_property(propertyType:DataType)->str:\n",
    "        if propertyType == DataType.TEXT:\n",
    "            return DatasetProperty.TEXT_TYPE\n",
    "        elif propertyType == DataType.NUMBER:\n",
    "            return DatasetProperty.NUMBER_TYPE\n",
    "        elif propertyType == DataType.INT:\n",
    "            return DatasetProperty.INTEGER_TYPE\n",
    "        elif propertyType == DataType.DATE:\n",
    "            return DatasetProperty.DATE_TYPE\n",
    "        elif propertyType == DataType.BOOL:\n",
    "            return DatasetProperty.BOOLEAN_TYPE\n",
    "        elif propertyType == DataType.GEO_COORDINATES:\n",
    "            return DatasetProperty.GEO_COORDINATES_TYPE\n",
    "        elif propertyType == DataType.PHONE_NUMBER:\n",
    "            return DatasetProperty.PHONE_NUMBER_TYPE\n",
    "        elif propertyType == DataType.UUID:\n",
    "            return DatasetProperty.UUID_TYPE\n",
    "        elif propertyType == DataType.BLOB:\n",
    "            return DatasetProperty.BLOB_TYPE\n",
    "        elif propertyType == DataType.OBJECT:\n",
    "            return DatasetProperty.OBJECT_TYPE\n",
    "        else:\n",
    "            return DatasetProperty.TEXT_TYPE\n",
    "\n",
    "prop = DatasetProperty(\n",
    "    name=\"Name\",\n",
    "    description=\"Property description\",\n",
    "    dtype=DatasetProperty.TEXT_TYPE,\n",
    "    is_vector=True,\n",
    "    is_indexed=True\n",
    ")\n",
    "print(prop)"
   ]
  },
  {
   "cell_type": "code",
   "execution_count": 23,
   "id": "6a43459d-9ba9-4323-bbd3-560088daad33",
   "metadata": {},
   "outputs": [
    {
     "name": "stdout",
     "output_type": "stream",
     "text": [
      "Test, Test dataset\n",
      "Name, text, True, True, Property name as string\n",
      "description, text, False, False, Property description\n",
      "uid, uuid, True, False, Property GUID\n",
      "Count, integer, False, False, total count\n"
     ]
    }
   ],
   "source": [
    "class Dataset:\n",
    "    def __init__(self, name, description, properties):\n",
    "        self.name = name\n",
    "        self.description = description\n",
    "        self.properties = properties\n",
    "\n",
    "    def __repr__(self):\n",
    "        out = f\"{self.name}, {self.description}\"\n",
    "        out = out + \"\\n\" + \"\\n\".join([f\"{prop}\" for prop in self.properties])\n",
    "        return out\n",
    "        \n",
    "    @staticmethod\n",
    "    def to_dict(dataset:DatasetProperty)->dict:\n",
    "        return {\n",
    "            \"id\": dataset.id,\n",
    "            \"name\": dataset.name,\n",
    "            \"description\": dataset.description,\n",
    "            \"properties\": [DatasetProperty.to_dict(prop) for prop in dataset.properties] if dataset.properties else []\n",
    "        }\n",
    "    \n",
    "    @staticmethod\n",
    "    def from_dict(data:dict)->typing.Type[DatasetProperty]:\n",
    "        if not data or type(data) is not dict:\n",
    "            return None\n",
    "\n",
    "        return Dataset(\n",
    "            id=data.get(\"id\", \"\"),\n",
    "            name=data.get(\"name\", \"\"),\n",
    "            description=data.get(\"description\", \"\"),\n",
    "            properties=[DatasetProperty.from_dict(prop) for prop in data.get(\"properties\", [])]\n",
    "        )\n",
    "\n",
    "dataset = Dataset(\n",
    "    name=\"Test\",\n",
    "    description=\"Test dataset\",\n",
    "    properties = [\n",
    "        DatasetProperty(\n",
    "            name=\"Name\",\n",
    "            description=\"Property name as string\",\n",
    "            dtype=DatasetProperty.TEXT_TYPE,\n",
    "            is_vector=True,\n",
    "            is_indexed=True\n",
    "        ),\n",
    "        DatasetProperty(\n",
    "            name=\"description\",\n",
    "            description=\"Property description\",\n",
    "            dtype=DatasetProperty.TEXT_TYPE,\n",
    "            is_vector=False,\n",
    "            is_indexed=False\n",
    "        ),\n",
    "        DatasetProperty(\n",
    "            name=\"uid\",\n",
    "            description=\"Property GUID\",\n",
    "            dtype=DatasetProperty.UUID_TYPE,\n",
    "            is_vector=False,\n",
    "            is_indexed=True\n",
    "        ),\n",
    "        DatasetProperty(\n",
    "            name=\"Count\",\n",
    "            description=\"total count\",\n",
    "            dtype=DatasetProperty.INTEGER_TYPE,\n",
    "            is_vector=False,\n",
    "            is_indexed=False\n",
    "        )\n",
    "    ]\n",
    ")\n",
    "print(dataset)"
   ]
  },
  {
   "cell_type": "code",
   "execution_count": 49,
   "id": "675482e8-9ce8-4985-8464-6186cd32d782",
   "metadata": {},
   "outputs": [
    {
     "data": {
      "text/plain": [
       "{'Test': _CollectionConfigSimple(name='Test', description='Test dataset', generative_config=None, properties=[_Property(name='name', description='Property name as string', data_type=<DataType.TEXT: 'text'>, index_filterable=True, index_range_filters=False, index_searchable=True, nested_properties=None, tokenization=<Tokenization.WORD: 'word'>, vectorizer_config=None, vectorizer='none'), _Property(name='description', description='Property description', data_type=<DataType.TEXT: 'text'>, index_filterable=False, index_range_filters=False, index_searchable=False, nested_properties=None, tokenization=<Tokenization.WORD: 'word'>, vectorizer_config=None, vectorizer='none'), _Property(name='uid', description='Property GUID', data_type=<DataType.UUID: 'uuid'>, index_filterable=True, index_range_filters=False, index_searchable=False, nested_properties=None, tokenization=None, vectorizer_config=None, vectorizer='none'), _Property(name='count', description='total count', data_type=<DataType.INT: 'int'>, index_filterable=False, index_range_filters=False, index_searchable=False, nested_properties=None, tokenization=None, vectorizer_config=None, vectorizer='none')], references=[], reranker_config=None, vectorizer_config=None, vectorizer=<Vectorizers.NONE: 'none'>, vector_config=None)}"
      ]
     },
     "execution_count": 49,
     "metadata": {},
     "output_type": "execute_result"
    }
   ],
   "source": [
    "# Read all collections\n",
    "client.collections.list_all()"
   ]
  },
  {
   "cell_type": "code",
   "execution_count": 47,
   "id": "126a8f78-aec7-4e71-8fdf-a5fca4b68108",
   "metadata": {},
   "outputs": [],
   "source": [
    "# Create a collection\n",
    "def add_collection(dataset):\n",
    "    if not dataset:\n",
    "            return None\n",
    "        \n",
    "    try:\n",
    "        properties = []\n",
    "        if dataset.properties and len(dataset.properties) > 0:\n",
    "            for prop in dataset.properties:\n",
    "                properties.append(Property(\n",
    "                    name=prop.name,\n",
    "                    description=prop.description,\n",
    "                    data_type=DatasetProperty.to_weaviate_property(prop.type),\n",
    "                    index_filterable=prop.is_indexed,\n",
    "                    index_searchable=prop.is_indexed and prop.type == DatasetProperty.TEXT_TYPE,\n",
    "                    skip_vectorization=True, # Do not vectorize any property. The vectorization will occur externally\n",
    "                ))\n",
    "\n",
    "        client.collections.create(\n",
    "            name=dataset.name,\n",
    "            description=dataset.description,\n",
    "            vectorizer_config=Configure.Vectorizer.none(), # Do not vectorize any property. The vectorization will occur externally\n",
    "            vector_index_config=Configure.VectorIndex.hnsw(\n",
    "                distance_metric=VectorDistances.COSINE,\n",
    "            ),\n",
    "            properties=properties\n",
    "\n",
    "        )\n",
    "        print(f\"Collection '{dataset.name}' created successfully.\")\n",
    "        return dataset\n",
    "    except weaviate.exceptions.SchemaValidationException as e:\n",
    "        print(f\"Error creating collection: {e}\")\n",
    "\n",
    "    return None\n"
   ]
  },
  {
   "cell_type": "code",
   "execution_count": 48,
   "id": "28ef9433-3d6a-462c-9096-84dc7088bea3",
   "metadata": {},
   "outputs": [
    {
     "name": "stdout",
     "output_type": "stream",
     "text": [
      "Collection 'Test' created successfully.\n"
     ]
    },
    {
     "data": {
      "text/plain": [
       "Test, Test dataset\n",
       "Name, text, True, True, Property name as string\n",
       "description, text, False, False, Property description\n",
       "uid, uuid, True, False, Property GUID\n",
       "Count, integer, False, False, total count"
      ]
     },
     "execution_count": 48,
     "metadata": {},
     "output_type": "execute_result"
    }
   ],
   "source": [
    "add_collection(dataset)"
   ]
  },
  {
   "cell_type": "code",
   "execution_count": 96,
   "id": "1475c917-a648-4990-b40c-92365c527e4f",
   "metadata": {},
   "outputs": [],
   "source": [
    "# Get a specific collection\n",
    "result = async_client.collections.get(\"Test\")\n",
    "await result.exists()\n",
    "await result.config.get()"
   ]
  }
 ],
 "metadata": {
  "kernelspec": {
   "display_name": "Python 3 (ipykernel)",
   "language": "python",
   "name": "python3"
  },
  "language_info": {
   "codemirror_mode": {
    "name": "ipython",
    "version": 3
   },
   "file_extension": ".py",
   "mimetype": "text/x-python",
   "name": "python",
   "nbconvert_exporter": "python",
   "pygments_lexer": "ipython3",
   "version": "3.12.7"
  }
 },
 "nbformat": 4,
 "nbformat_minor": 5
}
