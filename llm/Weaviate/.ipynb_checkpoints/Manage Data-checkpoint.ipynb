{
 "cells": [
  {
   "cell_type": "markdown",
   "id": "5d791ac1-970f-40ef-b5fd-fbf54b5de6fc",
   "metadata": {},
   "source": [
    "# Weaviate - Manage data\n",
    "\n",
    "This file contains the code to manage Weaviate data\n",
    "\n",
    "**Source: []()**"
   ]
  },
  {
   "cell_type": "code",
   "execution_count": 1,
   "id": "4782aa0f-e523-42ed-bec7-19c8a5435655",
   "metadata": {},
   "outputs": [],
   "source": [
    "import os"
   ]
  },
  {
   "cell_type": "code",
   "execution_count": 2,
   "id": "180b95f2-8f5a-4c17-9f14-80ab1d3b798f",
   "metadata": {},
   "outputs": [
    {
     "data": {
      "text/plain": [
       "'E:\\\\Accessories\\\\WebDevelopment\\\\Portfolio\\\\portfolio_admin_experience_django\\\\llm\\\\Weaviate'"
      ]
     },
     "execution_count": 2,
     "metadata": {},
     "output_type": "execute_result"
    }
   ],
   "source": [
    "os.getcwd()"
   ]
  },
  {
   "cell_type": "code",
   "execution_count": 5,
   "id": "1b0a668d-50d0-4bf6-b9c1-41d9d7e3f476",
   "metadata": {},
   "outputs": [],
   "source": [
    "import weaviate\n",
    "from weaviate.connect import ConnectionParams\n",
    "from weaviate.classes.init import AdditionalConfig, Timeout, Auth"
   ]
  },
  {
   "cell_type": "markdown",
   "id": "23380484-0c47-4ac9-9624-71407a726a6a",
   "metadata": {},
   "source": [
    "# Connect to the client"
   ]
  },
  {
   "cell_type": "code",
   "execution_count": 6,
   "id": "2e5cb48d-9a4d-4fd9-9f6c-2c843cb1d830",
   "metadata": {},
   "outputs": [],
   "source": [
    "weaviate_host = \"localhost\"\n",
    "weaviate_port = 50050\n",
    "weaviate_grpc_port = 50051\n",
    "weaviate_scheme = \"http\"\n",
    "weaviate_user = \"admin@vip3rtech6069.com\"\n",
    "weaviate_key = \"admin123\"\n",
    "\n",
    "weaviate_connection_params = ConnectionParams.from_params(\n",
    "    http_host=weaviate_host,\n",
    "    http_port=weaviate_port,\n",
    "    http_secure=weaviate_scheme == \"https\",\n",
    "    grpc_host=weaviate_host,\n",
    "    grpc_port=weaviate_grpc_port,\n",
    "    grpc_secure=weaviate_scheme == \"https\"\n",
    ")\n",
    "weaviate_auth_secret = Auth.api_key(weaviate_key)\n",
    "weaviate_additional_config = AdditionalConfig(\n",
    "    timeout=Timeout(init=30, query=60, insert=120),  # Values in seconds\n",
    ")"
   ]
  },
  {
   "cell_type": "code",
   "execution_count": 9,
   "id": "85ee10c0-6742-4d77-a1e2-162a2c2f28b6",
   "metadata": {},
   "outputs": [],
   "source": [
    "client = weaviate.WeaviateClient(\n",
    "    connection_params=weaviate_connection_params,\n",
    "    auth_client_secret=weaviate_auth_secret,\n",
    "    additional_config=weaviate_additional_config,\n",
    "    skip_init_checks=True\n",
    ")\n",
    "client.connect()"
   ]
  },
  {
   "cell_type": "code",
   "execution_count": 10,
   "id": "31d82a33-7828-4249-8d6f-c5e2c72afe19",
   "metadata": {},
   "outputs": [
    {
     "data": {
      "text/plain": [
       "True"
      ]
     },
     "execution_count": 10,
     "metadata": {},
     "output_type": "execute_result"
    }
   ],
   "source": [
    "client.is_ready()"
   ]
  },
  {
   "cell_type": "markdown",
   "id": "c39eca89-64ed-45fb-a2df-d92bf6c700cb",
   "metadata": {},
   "source": [
    "# Manage collections\n",
    "\n"
   ]
  },
  {
   "cell_type": "code",
   "execution_count": 11,
   "id": "675482e8-9ce8-4985-8464-6186cd32d782",
   "metadata": {},
   "outputs": [
    {
     "data": {
      "text/plain": [
       "{}"
      ]
     },
     "execution_count": 11,
     "metadata": {},
     "output_type": "execute_result"
    }
   ],
   "source": [
    "# Read all collections\n",
    "client.collections.list_all()"
   ]
  },
  {
   "cell_type": "code",
   "execution_count": null,
   "id": "126a8f78-aec7-4e71-8fdf-a5fca4b68108",
   "metadata": {},
   "outputs": [],
   "source": []
  }
 ],
 "metadata": {
  "kernelspec": {
   "display_name": "Python 3 (ipykernel)",
   "language": "python",
   "name": "python3"
  },
  "language_info": {
   "codemirror_mode": {
    "name": "ipython",
    "version": 3
   },
   "file_extension": ".py",
   "mimetype": "text/x-python",
   "name": "python",
   "nbconvert_exporter": "python",
   "pygments_lexer": "ipython3",
   "version": "3.12.7"
  }
 },
 "nbformat": 4,
 "nbformat_minor": 5
}
